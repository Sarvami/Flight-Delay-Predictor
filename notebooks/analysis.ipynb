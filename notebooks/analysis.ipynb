{
 "cells": [
  {
   "cell_type": "code",
   "execution_count": 8,
   "id": "7564eacc-8de9-4031-ad6d-559dd5613789",
   "metadata": {},
   "outputs": [],
   "source": [
    "import pandas as pd\n",
    "import numpy as np\n",
    "from sklearn.model_selection import train_test_split\n",
    "from sklearn.ensemble import RandomForestRegressor\n",
    "from sklearn.metrics import mean_absolute_error, mean_squared_error, r2_score\n",
    "import joblib\n"
   ]
  },
  {
   "cell_type": "code",
   "execution_count": 9,
   "id": "5910a6f5-6090-4c5f-955b-a165074fcada",
   "metadata": {},
   "outputs": [
    {
     "data": {
      "text/plain": [
       "((1936758, 30),\n",
       " ['Unnamed: 0',\n",
       "  'Year',\n",
       "  'Month',\n",
       "  'DayofMonth',\n",
       "  'DayOfWeek',\n",
       "  'DepTime',\n",
       "  'CRSDepTime',\n",
       "  'ArrTime',\n",
       "  'CRSArrTime',\n",
       "  'UniqueCarrier',\n",
       "  'FlightNum',\n",
       "  'TailNum',\n",
       "  'ActualElapsedTime',\n",
       "  'CRSElapsedTime',\n",
       "  'AirTime',\n",
       "  'ArrDelay',\n",
       "  'DepDelay',\n",
       "  'Origin',\n",
       "  'Dest',\n",
       "  'Distance',\n",
       "  'TaxiIn',\n",
       "  'TaxiOut',\n",
       "  'Cancelled',\n",
       "  'CancellationCode',\n",
       "  'Diverted',\n",
       "  'CarrierDelay',\n",
       "  'WeatherDelay',\n",
       "  'NASDelay',\n",
       "  'SecurityDelay',\n",
       "  'LateAircraftDelay'])"
      ]
     },
     "execution_count": 9,
     "metadata": {},
     "output_type": "execute_result"
    }
   ],
   "source": [
    "df = pd.read_csv('../data/DelayedFlights.csv')  # update path if needed\n",
    "df.shape, df.columns.tolist()\n"
   ]
  },
  {
   "cell_type": "code",
   "execution_count": 11,
   "id": "0240d4b7-24b1-4fac-9587-4725ff44aebd",
   "metadata": {},
   "outputs": [
    {
     "data": {
      "text/html": [
       "<div>\n",
       "<style scoped>\n",
       "    .dataframe tbody tr th:only-of-type {\n",
       "        vertical-align: middle;\n",
       "    }\n",
       "\n",
       "    .dataframe tbody tr th {\n",
       "        vertical-align: top;\n",
       "    }\n",
       "\n",
       "    .dataframe thead th {\n",
       "        text-align: right;\n",
       "    }\n",
       "</style>\n",
       "<table border=\"1\" class=\"dataframe\">\n",
       "  <thead>\n",
       "    <tr style=\"text-align: right;\">\n",
       "      <th></th>\n",
       "      <th>Year</th>\n",
       "      <th>Month</th>\n",
       "      <th>DayofMonth</th>\n",
       "      <th>DayOfWeek</th>\n",
       "      <th>CRSDepTime</th>\n",
       "      <th>DepDelay</th>\n",
       "      <th>ArrDelay</th>\n",
       "      <th>Distance</th>\n",
       "      <th>UniqueCarrier</th>\n",
       "      <th>Origin</th>\n",
       "      <th>Dest</th>\n",
       "    </tr>\n",
       "  </thead>\n",
       "  <tbody>\n",
       "    <tr>\n",
       "      <th>0</th>\n",
       "      <td>2008</td>\n",
       "      <td>1</td>\n",
       "      <td>3</td>\n",
       "      <td>4</td>\n",
       "      <td>1955</td>\n",
       "      <td>8.0</td>\n",
       "      <td>-14.0</td>\n",
       "      <td>810</td>\n",
       "      <td>WN</td>\n",
       "      <td>IAD</td>\n",
       "      <td>TPA</td>\n",
       "    </tr>\n",
       "    <tr>\n",
       "      <th>1</th>\n",
       "      <td>2008</td>\n",
       "      <td>1</td>\n",
       "      <td>3</td>\n",
       "      <td>4</td>\n",
       "      <td>735</td>\n",
       "      <td>19.0</td>\n",
       "      <td>2.0</td>\n",
       "      <td>810</td>\n",
       "      <td>WN</td>\n",
       "      <td>IAD</td>\n",
       "      <td>TPA</td>\n",
       "    </tr>\n",
       "    <tr>\n",
       "      <th>2</th>\n",
       "      <td>2008</td>\n",
       "      <td>1</td>\n",
       "      <td>3</td>\n",
       "      <td>4</td>\n",
       "      <td>620</td>\n",
       "      <td>8.0</td>\n",
       "      <td>14.0</td>\n",
       "      <td>515</td>\n",
       "      <td>WN</td>\n",
       "      <td>IND</td>\n",
       "      <td>BWI</td>\n",
       "    </tr>\n",
       "  </tbody>\n",
       "</table>\n",
       "</div>"
      ],
      "text/plain": [
       "   Year  Month  DayofMonth  DayOfWeek  CRSDepTime  DepDelay  ArrDelay  \\\n",
       "0  2008      1           3          4        1955       8.0     -14.0   \n",
       "1  2008      1           3          4         735      19.0       2.0   \n",
       "2  2008      1           3          4         620       8.0      14.0   \n",
       "\n",
       "   Distance UniqueCarrier Origin Dest  \n",
       "0       810            WN    IAD  TPA  \n",
       "1       810            WN    IAD  TPA  \n",
       "2       515            WN    IND  BWI  "
      ]
     },
     "execution_count": 11,
     "metadata": {},
     "output_type": "execute_result"
    }
   ],
   "source": [
    "# Pick essential columns from your CSV\n",
    "df = df[['Year','Month','DayofMonth','DayOfWeek','CRSDepTime','DepDelay','ArrDelay','Distance','UniqueCarrier','Origin','Dest']]\n",
    "\n",
    "# Drop rows with missing numeric target or distance\n",
    "df = df.dropna(subset=['ArrDelay','DepDelay','Distance'])\n",
    "\n",
    "# Quick look\n",
    "df.head(3)\n",
    "\n"
   ]
  },
  {
   "cell_type": "code",
   "execution_count": 15,
   "id": "f5cb5e89-e3a7-4bde-88a6-046ee307e9f5",
   "metadata": {},
   "outputs": [
    {
     "data": {
      "text/html": [
       "<div>\n",
       "<style scoped>\n",
       "    .dataframe tbody tr th:only-of-type {\n",
       "        vertical-align: middle;\n",
       "    }\n",
       "\n",
       "    .dataframe tbody tr th {\n",
       "        vertical-align: top;\n",
       "    }\n",
       "\n",
       "    .dataframe thead th {\n",
       "        text-align: right;\n",
       "    }\n",
       "</style>\n",
       "<table border=\"1\" class=\"dataframe\">\n",
       "  <thead>\n",
       "    <tr style=\"text-align: right;\">\n",
       "      <th></th>\n",
       "      <th>CRS_DEP_HOUR</th>\n",
       "      <th>WEEKDAY</th>\n",
       "      <th>IS_DELAYED</th>\n",
       "    </tr>\n",
       "  </thead>\n",
       "  <tbody>\n",
       "    <tr>\n",
       "      <th>0</th>\n",
       "      <td>19</td>\n",
       "      <td>3</td>\n",
       "      <td>0</td>\n",
       "    </tr>\n",
       "    <tr>\n",
       "      <th>1</th>\n",
       "      <td>7</td>\n",
       "      <td>3</td>\n",
       "      <td>0</td>\n",
       "    </tr>\n",
       "    <tr>\n",
       "      <th>2</th>\n",
       "      <td>6</td>\n",
       "      <td>3</td>\n",
       "      <td>0</td>\n",
       "    </tr>\n",
       "  </tbody>\n",
       "</table>\n",
       "</div>"
      ],
      "text/plain": [
       "   CRS_DEP_HOUR  WEEKDAY  IS_DELAYED\n",
       "0            19        3           0\n",
       "1             7        3           0\n",
       "2             6        3           0"
      ]
     },
     "execution_count": 15,
     "metadata": {},
     "output_type": "execute_result"
    }
   ],
   "source": [
    "# Ensure integer type\n",
    "df['Year'] = df['Year'].astype(int)\n",
    "df['Month'] = df['Month'].astype(int)\n",
    "df['DayofMonth'] = df['DayofMonth'].astype(int)\n",
    "\n",
    "# Extract hour from scheduled departure\n",
    "df['CRS_DEP_HOUR'] = df['CRSDepTime'] // 100\n",
    "\n",
    "# Combine into a proper datetime using string\n",
    "df['FL_DATE'] = pd.to_datetime(df['Year'].astype(str) + '-' +\n",
    "                               df['Month'].astype(str) + '-' +\n",
    "                               df['DayofMonth'].astype(str))\n",
    "\n",
    "# Weekday (0 = Monday)\n",
    "df['WEEKDAY'] = df['FL_DATE'].dt.weekday\n",
    "\n",
    "# Optional binary target\n",
    "df['IS_DELAYED'] = (df['ArrDelay'] > 15).astype(int)\n",
    "\n",
    "# Quick check\n",
    "df[['CRS_DEP_HOUR','WEEKDAY','IS_DELAYED']].head(3)\n",
    "\n",
    "\n"
   ]
  },
  {
   "cell_type": "code",
   "execution_count": 16,
   "id": "e19a4310-f656-47af-9f4e-6fab92783669",
   "metadata": {},
   "outputs": [
    {
     "data": {
      "text/plain": [
       "((1928371, 22), (1928371,))"
      ]
     },
     "execution_count": 16,
     "metadata": {},
     "output_type": "execute_result"
    }
   ],
   "source": [
    "X = df[['Distance','DepDelay','CRS_DEP_HOUR']]\n",
    "X = pd.concat([X, pd.get_dummies(df['UniqueCarrier'], prefix='CARRIER', drop_first=True)], axis=1)\n",
    "y = df['ArrDelay']\n",
    "X.shape, y.shape\n"
   ]
  },
  {
   "cell_type": "code",
   "execution_count": 17,
   "id": "e454056a-7dc1-45a9-9e89-0f7fdf7de5a6",
   "metadata": {},
   "outputs": [
    {
     "data": {
      "text/plain": [
       "((320000, 22), (80000, 22))"
      ]
     },
     "execution_count": 17,
     "metadata": {},
     "output_type": "execute_result"
    }
   ],
   "source": [
    "# Optional: use a subset to speed up training\n",
    "df_subset = df.sample(n=400000, random_state=42)  # 400k rows instead of 2M\n",
    "\n",
    "X_sub = X.loc[df_subset.index]\n",
    "y_sub = y.loc[df_subset.index]\n",
    "\n",
    "X_train, X_test, y_train, y_test = train_test_split(\n",
    "    X_sub, y_sub, test_size=0.2, random_state=42\n",
    ")\n",
    "\n",
    "X_train.shape, X_test.shape\n"
   ]
  },
  {
   "cell_type": "code",
   "execution_count": 18,
   "id": "cd34b7ae-b0d1-42ec-a3df-14ebb3fef54a",
   "metadata": {},
   "outputs": [
    {
     "name": "stdout",
     "output_type": "stream",
     "text": [
      "trained\n"
     ]
    }
   ],
   "source": [
    "model = RandomForestRegressor(\n",
    "    n_estimators=100,   # enough for decent accuracy\n",
    "    max_depth=10,       # limit depth to reduce overfitting and speed\n",
    "    n_jobs=-1,          # use all cores\n",
    "    random_state=42\n",
    ")\n",
    "model.fit(X_train, y_train)\n",
    "print(\"trained\")\n"
   ]
  },
  {
   "cell_type": "code",
   "execution_count": 20,
   "id": "ea0327f7-a9cb-41c4-af36-47cbc6555039",
   "metadata": {},
   "outputs": [
    {
     "name": "stdout",
     "output_type": "stream",
     "text": [
      "MAE: 11.15\n",
      "RMSE: 17.19\n",
      "R2: 0.909\n"
     ]
    }
   ],
   "source": [
    "import math\n",
    "from sklearn.metrics import mean_absolute_error, mean_squared_error, r2_score\n",
    "\n",
    "# Ensure numeric\n",
    "y_test_clean = y_test.astype(float)\n",
    "y_pred_clean = pd.Series(y_pred, index=y_test_clean.index)\n",
    "\n",
    "# MAE\n",
    "mae = mean_absolute_error(y_test_clean, y_pred_clean)\n",
    "\n",
    "# RMSE (sqrt of MSE)\n",
    "rmse = math.sqrt(mean_squared_error(y_test_clean, y_pred_clean))\n",
    "\n",
    "# R^2\n",
    "r2 = r2_score(y_test_clean, y_pred_clean)\n",
    "\n",
    "print(\"MAE:\", round(mae, 2))\n",
    "print(\"RMSE:\", round(rmse, 2))\n",
    "print(\"R2:\", round(r2, 3))\n",
    "\n"
   ]
  },
  {
   "cell_type": "code",
   "execution_count": 21,
   "id": "b9b73ab4-96e3-46f2-871f-c8c168e1cdff",
   "metadata": {},
   "outputs": [
    {
     "name": "stdout",
     "output_type": "stream",
     "text": [
      "saved ../models/delay_model.pkl\n"
     ]
    }
   ],
   "source": [
    "joblib.dump(model, '../models/delay_model.pkl')\n",
    "print(\"saved ../models/delay_model.pkl\")\n"
   ]
  },
  {
   "cell_type": "code",
   "execution_count": 22,
   "id": "914273dd-eaff-4f79-9e1c-849ea5dd6640",
   "metadata": {},
   "outputs": [
    {
     "data": {
      "text/plain": [
       "DepDelay        0.993030\n",
       "Distance        0.003607\n",
       "CRS_DEP_HOUR    0.001193\n",
       "CARRIER_WN      0.000949\n",
       "CARRIER_NW      0.000183\n",
       "CARRIER_MQ      0.000143\n",
       "CARRIER_B6      0.000127\n",
       "CARRIER_CO      0.000123\n",
       "CARRIER_DL      0.000093\n",
       "CARRIER_AA      0.000077\n",
       "dtype: float64"
      ]
     },
     "execution_count": 22,
     "metadata": {},
     "output_type": "execute_result"
    }
   ],
   "source": [
    "imp = pd.Series(model.feature_importances_, index=X.columns).sort_values(ascending=False).head(10)\n",
    "imp\n"
   ]
  },
  {
   "cell_type": "code",
   "execution_count": null,
   "id": "ee763e4f-cc2d-4dd4-bd5a-9554750bd655",
   "metadata": {},
   "outputs": [],
   "source": []
  }
 ],
 "metadata": {
  "kernelspec": {
   "display_name": "Python 3 (ipykernel)",
   "language": "python",
   "name": "python3"
  },
  "language_info": {
   "codemirror_mode": {
    "name": "ipython",
    "version": 3
   },
   "file_extension": ".py",
   "mimetype": "text/x-python",
   "name": "python",
   "nbconvert_exporter": "python",
   "pygments_lexer": "ipython3",
   "version": "3.12.1"
  }
 },
 "nbformat": 4,
 "nbformat_minor": 5
}
